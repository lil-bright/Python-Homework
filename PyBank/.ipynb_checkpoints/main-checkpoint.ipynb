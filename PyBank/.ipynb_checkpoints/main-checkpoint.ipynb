{
 "cells": [
  {
   "cell_type": "code",
   "execution_count": 4,
   "metadata": {},
   "outputs": [],
   "source": [
    "# Import pathlib and csv + set file path and variables \n",
    "from pathlib import Path\n",
    "import csv\n",
    "csvpath = Path('budget_data.csv')\n",
    "profitloss = []\n",
    "line_num = 0 "
   ]
  },
  {
   "cell_type": "code",
   "execution_count": 5,
   "metadata": {},
   "outputs": [
    {
     "name": "stdout",
     "output_type": "stream",
     "text": [
      "<class '_io.TextIOWrapper'>\n",
      "<class '_csv.reader'>\n",
      "['Date', 'Profit/Losses']\n"
     ]
    }
   ],
   "source": [
    "# Open path as a file \n",
    "# Put into csv.reader() and define ',' as the delimiter/separator\n",
    "# Define header and line_num \n",
    "# Define profitslosses variable 2nd column of each row \n",
    "# APPEND THE ROW PROFITSLOSSES VALUE TO THE LIST OF SALARIES \n",
    "with open(csvpath, 'r') as csvfile:\n",
    "    print(type(csvfile))\n",
    "    csvreader = csv.reader(csvfile, delimiter = ',')\n",
    "    print(type(csvreader))\n",
    "    header = next(csvreader)\n",
    "    line_num += 1\n",
    "    print(f\"{header}\")\n",
    "    for row in csvreader:\n",
    "        profitslosses = int(row[1])\n",
    "        profitloss.append(profitslosses)\n",
    "    months = 0 \n",
    "    net_profit = 0 \n",
    "    avg_change = 0\n",
    "    profit_increase = 0\n",
    "    profit_decrease = 0 "
   ]
  },
  {
   "cell_type": "code",
   "execution_count": 6,
   "metadata": {},
   "outputs": [],
   "source": [
    "# Metric variables \n",
    "# Calculate total, count, min, max, average \n",
    "months = 0 \n",
    "net_profit = 0 \n",
    "avg_change = 0\n",
    "profit_increase = 0\n",
    "profit_decrease = 0 \n",
    "for profitslosses in profitloss:\n",
    "    net_profit += profitslosses\n",
    "    months += 1\n",
    "    if profit_decrease == 0:\n",
    "        profit_decrease = profitslosses\n",
    "    elif profitslosses > profit_increase:\n",
    "        profit_increase = profitslosses\n",
    "    elif profitslosses < profit_decrease:\n",
    "        profit_decrease = profitslosses "
   ]
  },
  {
   "cell_type": "code",
   "execution_count": 7,
   "metadata": {},
   "outputs": [],
   "source": [
    "avg_change = round(net_profit/months,2)"
   ]
  },
  {
   "cell_type": "code",
   "execution_count": 8,
   "metadata": {},
   "outputs": [
    {
     "name": "stdout",
     "output_type": "stream",
     "text": [
      "38382578 86 446309.05 1170593 -1196225\n"
     ]
    }
   ],
   "source": [
    "print(net_profit, months, avg_change, profit_increase, profit_decrease)"
   ]
  },
  {
   "cell_type": "code",
   "execution_count": 9,
   "metadata": {},
   "outputs": [
    {
     "name": "stdout",
     "output_type": "stream",
     "text": [
      "Financial Analysis\n",
      "------------------------------\n",
      "Total Months: 86\n",
      "Total: $38382578\n",
      "Average Change: $446309.05\n",
      "Greatest Increase In Profits: $1170593\n",
      "Greatest Decrease In Profits: $-1196225\n"
     ]
    }
   ],
   "source": [
    "print(f\"Financial Analysis\")\n",
    "print(f\"------------------------------\")\n",
    "print(f\"Total Months: {months}\")\n",
    "print(f\"Total: ${net_profit}\")\n",
    "print(f\"Average Change: ${avg_change}\")\n",
    "print(f\"Greatest Increase In Profits: ${profit_increase}\")\n",
    "print(f\"Greatest Decrease In Profits: ${profit_decrease}\")"
   ]
  },
  {
   "cell_type": "code",
   "execution_count": null,
   "metadata": {},
   "outputs": [],
   "source": []
  }
 ],
 "metadata": {
  "kernelspec": {
   "display_name": "Python 3",
   "language": "python",
   "name": "python3"
  },
  "language_info": {
   "codemirror_mode": {
    "name": "ipython",
    "version": 3
   },
   "file_extension": ".py",
   "mimetype": "text/x-python",
   "name": "python",
   "nbconvert_exporter": "python",
   "pygments_lexer": "ipython3",
   "version": "3.7.6"
  }
 },
 "nbformat": 4,
 "nbformat_minor": 4
}
