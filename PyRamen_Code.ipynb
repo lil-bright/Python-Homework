{
 "cells": [
  {
   "cell_type": "code",
   "execution_count": 13,
   "metadata": {},
   "outputs": [],
   "source": [
    "## **Start**\n",
    "import csv\n",
    "from pathlib import Path \n",
    "menu_path = Path('menu_data.csv')\n",
    "sales_path = Path('sales_data.csv')\n",
    "\n",
    "# Empty list objects to hold contents of .csv files \n",
    "menu = []\n",
    "sales = []\n",
    "line_num = 0 "
   ]
  },
  {
   "cell_type": "code",
   "execution_count": 14,
   "metadata": {},
   "outputs": [
    {
     "name": "stdout",
     "output_type": "stream",
     "text": [
      "<class '_io.TextIOWrapper'>\n",
      "<class '_csv.reader'>\n",
      "['item', 'category', 'description', 'price', 'cost']\n"
     ]
    }
   ],
   "source": [
    "## **Read Menu Data** \n",
    "# With statement to open .csv using file path \n",
    "with open(menu_path, 'r') as csvfile:\n",
    "    print(type(csvfile))\n",
    "    \n",
    "    # Reader function from csv library to read .csv \n",
    "    csvreader = csv.reader(csvfile, delimiter = ',')\n",
    "    print(type(csvreader))\n",
    "    \n",
    "    # use next function to skip the header (first row of .csv)\n",
    "    menu_header = next(csvreader)\n",
    "    line_num += 1\n",
    "    print(f\"{menu_header}\")\n",
    "    \n",
    "    # Loop over the rest of the rows\n",
    "    # append every row to the menu list object \n",
    "    # (the outcome will be a list of lists)\n",
    "    for menu_row in csvreader:\n",
    "        menu.append(menu_row)"
   ]
  },
  {
   "cell_type": "code",
   "execution_count": 15,
   "metadata": {},
   "outputs": [
    {
     "name": "stdout",
     "output_type": "stream",
     "text": [
      "<class '_io.TextIOWrapper'>\n",
      "<class '_csv.reader'>\n",
      "['Line_Item_ID', 'Date', 'Credit_Card_Number', 'Quantity', 'Menu_Item']\n"
     ]
    }
   ],
   "source": [
    "## **Read Sales Data**\n",
    "# With statement to open .csv using file path \n",
    "with open(sales_path, 'r') as csvfile:\n",
    "    print(type(csvfile))\n",
    "    \n",
    "    # Reader function from csv library to read .csv \n",
    "    csvreader = csv.reader(csvfile, delimiter = ',')\n",
    "    print(type(csvreader))\n",
    "    \n",
    "    # use next function to skip the header (first row of .csv)\n",
    "    sales_header = next(csvreader)\n",
    "    line_num += 1\n",
    "    print(f\"{sales_header}\")\n",
    "    \n",
    "    # Loop over the rest of the rows\n",
    "    # append every row to the menu list object \n",
    "    # (the outcome will be a list of lists)\n",
    "    for sales_row in csvreader:\n",
    "        sales.append(sales_row)"
   ]
  },
  {
   "cell_type": "code",
   "execution_count": 12,
   "metadata": {},
   "outputs": [
    {
     "ename": "ValueError",
     "evalue": "I/O operation on closed file.",
     "output_type": "error",
     "traceback": [
      "\u001b[1;31m---------------------------------------------------------------------------\u001b[0m",
      "\u001b[1;31mValueError\u001b[0m                                Traceback (most recent call last)",
      "\u001b[1;32m<ipython-input-12-c9a083a225d5>\u001b[0m in \u001b[0;36m<module>\u001b[1;34m\u001b[0m\n\u001b[0;32m      2\u001b[0m \u001b[0mreport\u001b[0m \u001b[1;33m=\u001b[0m \u001b[1;33m{\u001b[0m\u001b[1;33m}\u001b[0m\u001b[1;33m\u001b[0m\u001b[1;33m\u001b[0m\u001b[0m\n\u001b[0;32m      3\u001b[0m \u001b[1;33m\u001b[0m\u001b[0m\n\u001b[1;32m----> 4\u001b[1;33m \u001b[1;32mfor\u001b[0m \u001b[0mrow\u001b[0m \u001b[1;32min\u001b[0m \u001b[0mcsvreader\u001b[0m\u001b[1;33m:\u001b[0m\u001b[1;33m\u001b[0m\u001b[1;33m\u001b[0m\u001b[0m\n\u001b[0m\u001b[0;32m      5\u001b[0m     \u001b[0mprint\u001b[0m\u001b[1;33m(\u001b[0m\u001b[0mrow\u001b[0m\u001b[1;33m)\u001b[0m\u001b[1;33m\u001b[0m\u001b[1;33m\u001b[0m\u001b[0m\n\u001b[0;32m      6\u001b[0m \u001b[1;33m\u001b[0m\u001b[0m\n",
      "\u001b[1;31mValueError\u001b[0m: I/O operation on closed file."
     ]
    }
   ],
   "source": [
    "## *Create Empty \"Report\" Dictionary*\n",
    "report = {}\n",
    "\n",
    "for sales in sales_row:\n",
    "    Quantity = int(row[3])\n",
    "    Menu_Item = (row[4])\n",
    "    \n",
    "    print(Menu_Item)\n",
    "    "
   ]
  },
  {
   "cell_type": "code",
   "execution_count": 9,
   "metadata": {},
   "outputs": [
    {
     "data": {
      "text/plain": [
       "{'01-count': 0, '02-revenue': 0, '03-cogs': 0, '04-profit': 0}"
      ]
     },
     "execution_count": 9,
     "metadata": {},
     "output_type": "execute_result"
    }
   ],
   "source": [
    "#Then, loop through every row in the sales list object.\n",
    "#For each row of the sales data, set the following columns of the \n",
    "#sales data to their own variables:\n",
    "\n",
    "#Quantity\n",
    "#Menu_Item\n",
    "\n",
    "#Perform a quick check if the sales_item is already included in the \n",
    "#report. If not, initialize the key-value pairs for the particular \n",
    "#sales_item in the report. Then, set the sales_item as a new key to \n",
    "#the report dictionary and the values as a nested dictionary\n",
    "#containing the following:\n",
    "\n",
    "{\n",
    "\"01-count\": 0,\n",
    "\"02-revenue\": 0,\n",
    "\"03-cogs\": 0,\n",
    "\"04-profit\": 0,\n",
    "}\n"
   ]
  },
  {
   "cell_type": "code",
   "execution_count": 10,
   "metadata": {},
   "outputs": [
    {
     "ename": "SyntaxError",
     "evalue": "invalid syntax (<ipython-input-10-66cf0729d95c>, line 10)",
     "output_type": "error",
     "traceback": [
      "\u001b[1;36m  File \u001b[1;32m\"<ipython-input-10-66cf0729d95c>\"\u001b[1;36m, line \u001b[1;32m10\u001b[0m\n\u001b[1;33m    else print hthe message {sales_item} dies bit eqyak {utem}! No Match!\u001b[0m\n\u001b[1;37m       ^\u001b[0m\n\u001b[1;31mSyntaxError\u001b[0m\u001b[1;31m:\u001b[0m invalid syntax\n"
     ]
    }
   ],
   "source": [
    "# Create a nested loop by looping through every record in menu \n",
    "## for each row in menu data set the following columns of the menu data to their own variables (Item, Price, Cost)\n",
    "\n",
    "# if sales_ item is equal to the item in menu, capture the quantity from the sales data and the price and cost from the menu data to calculate the profit foreach item \n",
    "# add values to corresponding metricst so: \n",
    "report[sales_item][\"01-count\"] += quantity\n",
    "report[sales_item][\"02-revenue\"] += price * quantity\n",
    "report[sales_item][\"03-cogs\"] += cost * quantity\n",
    "report[sales_item][\"04-profit\"] += profit * quantity\n",
    "else print hthe message {sales_item} dies bit eqyak {utem}! No Match! \n",
    "\n",
    "# write out the contents of the report dictionary to a tex file "
   ]
  },
  {
   "cell_type": "code",
   "execution_count": null,
   "metadata": {},
   "outputs": [],
   "source": []
  }
 ],
 "metadata": {
  "kernelspec": {
   "display_name": "Python 3",
   "language": "python",
   "name": "python3"
  },
  "language_info": {
   "codemirror_mode": {
    "name": "ipython",
    "version": 3
   },
   "file_extension": ".py",
   "mimetype": "text/x-python",
   "name": "python",
   "nbconvert_exporter": "python",
   "pygments_lexer": "ipython3",
   "version": "3.7.6"
  }
 },
 "nbformat": 4,
 "nbformat_minor": 4
}
